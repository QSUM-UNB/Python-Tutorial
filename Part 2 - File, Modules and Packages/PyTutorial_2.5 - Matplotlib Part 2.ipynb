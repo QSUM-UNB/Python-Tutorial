{
 "cells": [
  {
   "cell_type": "markdown",
   "metadata": {},
   "source": [
    "# PyTutorial 2.5 - Creating plots with Matplotlib (Part 2)\n",
    "\n",
    "In the previous tutorial, we went over the basic plotting tools and options.  \n",
    "In this tutorial, we'll cover how to display several subplots in one figure, as well as additional figure customizations.  \n",
    "\n",
    "Before going through this tutorial, visit the following link to learn about the anatomy of a figure:  \n",
    "https://matplotlib.org/devdocs/tutorials/introductory/quick_start.html#parts-of-a-figure"
   ]
  },
  {
   "cell_type": "code",
   "execution_count": null,
   "metadata": {},
   "outputs": [],
   "source": [
    "import matplotlib.pyplot as plt\n",
    "import numpy as np\n",
    "plt.style.use('default')"
   ]
  },
  {
   "cell_type": "markdown",
   "metadata": {},
   "source": [
    "Matplotlib graphs data on objects called 'Figures', each of which can contain one or more 'Axes'.  \n",
    "An axis is an area where points can be specified in terms of x-y coordinates (for example, using the plot() method of pyplot).  \n",
    "A single axis can contain several overlayed plots, as we saw in the previous Matplotlib tutorial.  \n",
    "The simplest way to create a figure is to use the 'subplots()' method.  "
   ]
  },
  {
   "cell_type": "code",
   "execution_count": null,
   "metadata": {},
   "outputs": [],
   "source": [
    "# To create an empty figure with a single axis:\n",
    "fig, axs = plt.subplots()\n",
    "\n",
    "# Populate the axis with a few plots:\n",
    "x = np.linspace(0., 4*np.pi, num=101)\n",
    "axs.plot(x, np.sin(x), label='sin(x)')\n",
    "axs.plot(x, np.cos(x), label='cos(x)')\n",
    "\n",
    "# To set the x & y labels on an axis, we must use the 'set_xlabel' and 'set_ylabel' methods:\n",
    "axs.set_xlabel('x (rad)')\n",
    "axs.set_ylabel('f(x)')\n",
    "# Note that plt.xlabel() and plt.ylabel() place labels on the current Figure object, not on a given Axis. \n",
    "# In this example, because the figure contains only one axis, plt.xlabel() and plt.ylabel() will also work here.\n",
    "\n",
    "# To activate the legend and grid lines on this axis:\n",
    "axs.legend()\n",
    "axs.grid()\n",
    "\n",
    "# Show the entire figure:\n",
    "plt.show()"
   ]
  },
  {
   "cell_type": "markdown",
   "metadata": {},
   "source": [
    "Figures can be divided into a grid of axes, each of which can contain multiple overlayed plots.  "
   ]
  },
  {
   "cell_type": "code",
   "execution_count": null,
   "metadata": {},
   "outputs": [],
   "source": [
    "# To create an empty figure with a 4 axes in a 2 x 2 grid with relative dimensions: 7.0 x 4.0 (width x height):\n",
    "fig, axs = plt.subplots(ncols=2, nrows=2, figsize=(7.0,4.0))\n",
    "# In this case, 'axs' is returned as a 2 x 2 array of Axes objects, where the row & column indices indicate\n",
    "# the position of the axis within the figure.\n",
    "# For example, axs[0,0] references the Axis in the top left corner, axs[1,1] the bottom right corner, etc.\n",
    "\n",
    "# Populate each axis with plots:\n",
    "x = np.linspace(-np.pi, np.pi, num=101)\n",
    "axs[0,0].plot(x, np.sin(x), label='sin(x)')\n",
    "axs[0,1].plot(x, np.cos(x), label='cos(x)')\n",
    "axs[1,0].plot(x, np.sinh(x), label='sinh(x)')\n",
    "axs[1,1].plot(x, np.cosh(x), label='cosh(x)')\n",
    "\n",
    "# Set x-labels on botom row only:\n",
    "axs[1,0].set_xlabel('x  (rad)')\n",
    "axs[1,1].set_xlabel('x  (rad)')\n",
    "# Set y-labels on left column only:\n",
    "axs[0,0].set_ylabel('f(x)')\n",
    "axs[1,0].set_ylabel('f(x)')\n",
    "\n",
    "# To activate the legend and grid lines on all axes:\n",
    "for row in axs:\n",
    "\tfor col in row:\n",
    "\t\tcol.legend()\n",
    "\t\tcol.grid()\n",
    "\n",
    "plt.show()"
   ]
  },
  {
   "cell_type": "markdown",
   "metadata": {},
   "source": [
    "To minimize the space between subplots, we can share the x- and y-axis labels between plots and use the 'constrained_layout' option.  "
   ]
  },
  {
   "cell_type": "code",
   "execution_count": null,
   "metadata": {},
   "outputs": [],
   "source": [
    "# Here is the same example with x-axis sharing on the columns and y-axis sharing on the rows:\n",
    "fig, axs = plt.subplots(ncols=2, nrows=2, figsize=(7.0,4.0), sharex='col', sharey='row', constrained_layout=True)\n",
    "\n",
    "x = np.linspace(-np.pi, np.pi, num=101)\n",
    "axs[0,0].plot(x, np.sin(x), label='sin(x)')\n",
    "axs[0,1].plot(x, np.cos(x), label='cos(x)')\n",
    "axs[1,0].plot(x, np.sinh(x), label='sinh(x)')\n",
    "axs[1,1].plot(x, np.cosh(x), label='cosh(x)')\n",
    "\n",
    "axs[1,0].set_xlabel('x  (rad)')\n",
    "axs[1,1].set_xlabel('x  (rad)')\n",
    "axs[0,0].set_ylabel('f(x)')\n",
    "axs[1,0].set_ylabel('f(x)')\n",
    "\n",
    "for row in axs:\n",
    "\tfor col in row:\n",
    "\t\tcol.legend()\n",
    "\t\tcol.grid()\n",
    "\n",
    "plt.show()"
   ]
  },
  {
   "cell_type": "markdown",
   "metadata": {},
   "source": [
    "Alternatively, we can create subplots using the 'add_gridspec' method.  \n",
    "Internally, the arrangement of a grid of Axes is controlled by creating instances of 'GridSpec' and 'SubplotSpec'.   \n",
    "GridSpec defines a (possibly non-uniform) grid of cells. Indexing into the GridSpec returns a SubplotSpec that covers one or more grid cells, and can be used to specify the location of an Axes.  "
   ]
  },
  {
   "cell_type": "code",
   "execution_count": null,
   "metadata": {},
   "outputs": [],
   "source": [
    "# We can realize a 2 x 2 grid of subplots using 'figure' and 'add_gridspec' as follows.\n",
    "# Create an empty figure with a constrained layout:\n",
    "fig = plt.figure(figsize=(7.0, 4.0), constrained_layout=True)\n",
    "# Specify a grid layout to place subplots within the figure:\n",
    "gs  = fig.add_gridspec(ncols=2, nrows=2)\n",
    "# Create a subplot at each grid location:\n",
    "ax00 = fig.add_subplot(gs[0,0])\n",
    "ax01 = fig.add_subplot(gs[0,1])\n",
    "ax10 = fig.add_subplot(gs[1,0])\n",
    "ax11 = fig.add_subplot(gs[1,1])\n",
    "# Create a 2D numpy array for all figure Axes:\n",
    "axs = np.array([[ax00, ax01], [ax10, ax11]])\n",
    "\n",
    "x = np.linspace(-np.pi, np.pi, num=101)\n",
    "axs[0,0].plot(x, np.sin(x), label='sin(x)')\n",
    "axs[0,1].plot(x, np.cos(x), label='cos(x)')\n",
    "axs[1,0].plot(x, np.sinh(x), label='sinh(x)')\n",
    "axs[1,1].plot(x, np.cosh(x), label='cosh(x)')\n",
    "\n",
    "axs[1,0].set_xlabel('x  (rad)')\n",
    "axs[1,1].set_xlabel('x  (rad)')\n",
    "axs[0,0].set_ylabel('f(x)')\n",
    "axs[1,0].set_ylabel('f(x)')\n",
    "\n",
    "for row in axs:\n",
    "\tfor col in row:\n",
    "\t\tcol.legend()\n",
    "\t\tcol.grid()\n",
    "\n",
    "plt.show()"
   ]
  },
  {
   "cell_type": "markdown",
   "metadata": {},
   "source": [
    "Using 'add_gridspec' instead of the 'subplots' method allows us greater flexibility to create subplots that span multiple grid locations in a non-uniform grid pattern.  "
   ]
  },
  {
   "cell_type": "code",
   "execution_count": null,
   "metadata": {},
   "outputs": [],
   "source": [
    "fig = plt.figure(figsize=(7.0, 4.0), constrained_layout=True)\n",
    "gs  = fig.add_gridspec(ncols=2, nrows=2)\n",
    "# This time, let the top plot axis spans both columns:\n",
    "ax0  = fig.add_subplot(gs[0,:])\n",
    "ax10 = fig.add_subplot(gs[1,0])\n",
    "ax11 = fig.add_subplot(gs[1,1])\n",
    "# Create a 1D numpy array for all figure Axes:\n",
    "axs = np.array([ax0, ax10, ax11])\n",
    "\n",
    "# Populate each axis with plots:\n",
    "x = np.linspace(-np.pi, np.pi, num=101)\n",
    "axs[0].plot(x, np.sin(x), label='sin(x)')\n",
    "axs[0].plot(x, np.cos(x), label='cos(x)')\n",
    "axs[1].plot(x, np.sinh(x), label='sinh(x)')\n",
    "axs[2].plot(x, np.cosh(x), label='cosh(x)')\n",
    "\n",
    "# Set x-labels on botom row only:\n",
    "axs[1].set_xlabel('x  (rad)')\n",
    "axs[2].set_xlabel('x  (rad)')\n",
    "# Set y-labels on left column only:\n",
    "axs[0].set_ylabel('f(x)')\n",
    "axs[1].set_ylabel('f(x)')\n",
    "\n",
    "for ax in axs:\n",
    "\tax.legend()\n",
    "\tax.grid()\n",
    "\n",
    "# Show the entire figure:\n",
    "plt.show()"
   ]
  }
 ],
 "metadata": {
  "kernelspec": {
   "display_name": "Python 3.7.9 64-bit",
   "language": "python",
   "name": "python3"
  },
  "language_info": {
   "codemirror_mode": {
    "name": "ipython",
    "version": 3
   },
   "file_extension": ".py",
   "mimetype": "text/x-python",
   "name": "python",
   "nbconvert_exporter": "python",
   "pygments_lexer": "ipython3",
   "version": "3.7.9"
  },
  "orig_nbformat": 4,
  "vscode": {
   "interpreter": {
    "hash": "d49c3f6d6dd49f9272b571d9fad348ab55b8c6c3f691520d74ed0af1f69c3dd8"
   }
  }
 },
 "nbformat": 4,
 "nbformat_minor": 2
}
