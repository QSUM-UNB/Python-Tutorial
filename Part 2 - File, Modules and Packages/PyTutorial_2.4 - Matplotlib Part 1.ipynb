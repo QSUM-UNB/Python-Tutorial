{
 "cells": [
  {
   "cell_type": "markdown",
   "metadata": {},
   "source": [
    "# PyTutorial 2.4 - Creating plots using Matplotlib - Part 1\n",
    "\n",
    "In this tutorial, we'll be looking at the extensive Python plotting library 'Matplotlib'.  \n",
    "\n",
    "To install Matplotlib, from a command prompt simply type: 'pip install matplotlib'"
   ]
  },
  {
   "cell_type": "code",
   "execution_count": null,
   "metadata": {},
   "outputs": [],
   "source": [
    "# Import pyplot from the matplotlib package:\n",
    "from matplotlib import pyplot as plt # 'plt' is a common alias for pyplot\n",
    "# Also import NumPy for these examples:\n",
    "import numpy as np\n",
    "# This line sets the default values for plot style parameters:\n",
    "plt.style.use('default') # Not neccessary, but useful for consistency in these examples"
   ]
  },
  {
   "cell_type": "code",
   "execution_count": null,
   "metadata": {},
   "outputs": [],
   "source": [
    "# Create some fictitious data for the x & y coordinates.\n",
    "# These data represent the height of an object as a function of time as it falls under gravity: \n",
    "x = np.linspace(0., 5., num=21) # A NumPy array containing time values ranging from 0 to 5 seconds\n",
    "y = 123. - 0.5*9.81*x**2 # A NumPy array containing the corresponding height values in meters\n",
    "\n",
    "# To create a simple plot of these data:\n",
    "plt.plot(x,y)\n",
    "# To show the plot:\n",
    "plt.show()"
   ]
  },
  {
   "cell_type": "code",
   "execution_count": null,
   "metadata": {},
   "outputs": [],
   "source": [
    "# To create labels on the x & y axes:\n",
    "plt.xlabel('Time (s)')\n",
    "plt.ylabel('Height above ground (m)')\n",
    "# To create a title for the plot:\n",
    "plt.title('Height of object under gravity')\n",
    "\n",
    "plt.plot(x,y)\n",
    "plt.show()"
   ]
  },
  {
   "cell_type": "code",
   "execution_count": null,
   "metadata": {},
   "outputs": [],
   "source": [
    "# Several data sets can be displayed on the same plot:\n",
    "x  = np.linspace(0., 5., num=21) \n",
    "y0 = 123. # Initial height above ground in meters\n",
    "y1 = y0 - 0.5*9.81*x**2 # Height above ground for each time value in meters\n",
    "y2 = y0 - 0.5*3.72*x**2\n",
    "y3 = y0 - 0.5*1.62*x**2\n",
    "\n",
    "# The 'label' keyword controls the text that appears in the legend\n",
    "plt.plot(x, y1, label='Earth')\n",
    "plt.plot(x, y2, label='Mars')\n",
    "plt.plot(x, y3, label='Moon')\n",
    "# Note that Python will automatically assign a different color to each plot\n",
    "\n",
    "plt.xlabel('Time (s)')\n",
    "plt.ylabel('Height above ground (m)')\n",
    "plt.title('Height of object under gravity')\n",
    "\n",
    "# To add grid lines to the plot:\n",
    "plt.grid()\n",
    "# To show a legend:\n",
    "plt.legend()\n",
    "plt.show()"
   ]
  },
  {
   "cell_type": "code",
   "execution_count": null,
   "metadata": {},
   "outputs": [],
   "source": [
    "# Python has several built-in plot styles. To get a list of the styles available:\n",
    "print(plt.style.available)"
   ]
  },
  {
   "cell_type": "code",
   "execution_count": null,
   "metadata": {},
   "outputs": [],
   "source": [
    "# To specify which plot style to use:\n",
    "plt.style.use('classic')\n",
    "\n",
    "plt.plot(x, y1, label='Earth')\n",
    "plt.plot(x, y2, label='Mars')\n",
    "plt.plot(x, y3, label='Moon')\n",
    "\n",
    "plt.xlabel('Time (s)')\n",
    "plt.ylabel('Height above ground (m)')\n",
    "plt.title('Height of object under gravity')\n",
    "\n",
    "plt.grid()\n",
    "plt.legend()\n",
    "plt.show()"
   ]
  },
  {
   "cell_type": "code",
   "execution_count": null,
   "metadata": {},
   "outputs": [],
   "source": [
    "# To customize the style of your plots, there are several optional arguments:\n",
    "# (e.g. 'color', 'linestyle', 'marker')\n",
    "plt.plot(x, y1, label='Earth', color='red', linestyle='-', marker='')\n",
    "plt.plot(x, y2, label='Mars', color='green', linestyle='--', marker='^')\n",
    "plt.plot(x, y3, label='Moon', color='blue', linestyle='', marker='.')\n",
    "\n",
    "# To adjust the fontsize of the title and labels:\n",
    "plt.title('Height of object under gravity', fontsize=18, fontfamily='Courier New')\n",
    "plt.xlabel('Time (s)', fontsize=16, fontfamily='Calibri')\n",
    "plt.ylabel('Height above ground (m)', fontsize=16, fontfamily='Times New Roman')\n",
    "\n",
    "# To adjust the grid lines:\n",
    "plt.grid(True, which='major', axis='y')\n",
    "# To change the legend font size and location: (e.g. 'upper left', 'lower right', 'center')\n",
    "plt.legend(loc='center left', fontsize=12) # Default is loc='best'\n",
    "\n",
    "# Figures can be exported to a file using:\n",
    "plt.savefig('ExamplePlot.png') # Also works with .jpg and .pdf extensions\n",
    "\n",
    "plt.show()"
   ]
  },
  {
   "cell_type": "code",
   "execution_count": null,
   "metadata": {},
   "outputs": [],
   "source": [
    "# To get a list of the named colors available for plotting:\n",
    "from matplotlib import colors\n",
    "print(colors.CSS4_COLORS.keys())"
   ]
  },
  {
   "cell_type": "code",
   "execution_count": null,
   "metadata": {},
   "outputs": [],
   "source": [
    "# Return to default plot style:\n",
    "plt.style.use('default')\n",
    "\n",
    "# Suppose our fictitious data has uncertainties on the time (dx) and height (dy) above ground level:\n",
    "dx  = np.full(21, 0.1)  # Time uncertainty is a constant 0.1 s\n",
    "dy1 = 0.05*abs(y1) + 2. # Height uncertainty is 5% of the absolute height value plus 2 m\n",
    "dy2 = 0.05*abs(y2) + 2.\n",
    "dy3 = 0.05*abs(y3) + 2.\n",
    "\n",
    "# We can plot error bars on our data using 'errorbar'\n",
    "# Both horizontal and vertical error bars can be shown (if only 'xerr' or 'yerr' is specified, the other defaults to None)\n",
    "plt.errorbar(x, y1, yerr=dy1, marker='.', linestyle='', color='royalblue', label='Earth')\n",
    "# The color of error bars will default to the same color as the plot markers\n",
    "# We can also specify the color, linestyle, and capsize for each set of error bars:\n",
    "plt.errorbar(x, y2, yerr=dy3, xerr=dx, marker='.', linestyle='', color='green', ecolor='violet', label='Mars')\n",
    "plt.errorbar(x, y3, yerr=dy2, xerr=dx, marker='.', linestyle='', color='orange', ecolor='black', elinewidth=1., capsize=3., label='Moon')\n",
    "\n",
    "plt.xlabel('Time (s)')\n",
    "plt.ylabel('Height above ground (m)')\n",
    "plt.title('Height of object under gravity')\n",
    "\n",
    "plt.grid()\n",
    "plt.legend()\n",
    "plt.show()"
   ]
  },
  {
   "cell_type": "code",
   "execution_count": null,
   "metadata": {},
   "outputs": [],
   "source": [
    "# Another useful way to display (vertical) uncertainties on your data is to use plot fills. \n",
    "plt.plot(x, y1, color='royalblue', linestyle='', marker='.', label='Earth')\n",
    "# 'fill_between' will fill the area between two curves with a specified color and transparency (alpha):\n",
    "plt.fill_between(x, y1-dy1, y1+dy1, color='royalblue', alpha=0.3)\n",
    "# Here, we are filling the zone between the curves y1-dy1 and y1+dy1 (the lower and upper limits of uncertainty)\n",
    "\n",
    "# Plot fills call also be used to highlight the area between two data sets:\n",
    "plt.plot(x, y2, color='crimson', linestyle='-', marker='', label='Mars')\n",
    "plt.plot(x, y3, color='darkgreen', linestyle='-', marker='', label='Moon')\n",
    "plt.fill_between(x, y2, y3, color='gray', alpha=0.3)\n",
    "\n",
    "plt.xlabel('Time (s)')\n",
    "plt.ylabel('Height above ground (m)')\n",
    "plt.title('Height of object under gravity')\n",
    "\n",
    "plt.grid()\n",
    "plt.legend()\n",
    "plt.show()"
   ]
  }
 ],
 "metadata": {
  "kernelspec": {
   "display_name": "Python 3.7.9 64-bit",
   "language": "python",
   "name": "python3"
  },
  "language_info": {
   "codemirror_mode": {
    "name": "ipython",
    "version": 3
   },
   "file_extension": ".py",
   "mimetype": "text/x-python",
   "name": "python",
   "nbconvert_exporter": "python",
   "pygments_lexer": "ipython3",
   "version": "3.7.9"
  },
  "orig_nbformat": 4,
  "vscode": {
   "interpreter": {
    "hash": "11c05466a21eb890c73b8c4edb844ef69eb8ff37d51f796d0d8ea1700ba996f4"
   }
  }
 },
 "nbformat": 4,
 "nbformat_minor": 2
}
